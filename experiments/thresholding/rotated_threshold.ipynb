{
 "cells": [
  {
   "cell_type": "markdown",
   "metadata": {},
   "source": [
    "This file will run thresholding memory experiments on the rotated surface code, using MWPM and BPOSD, under depolarizing noise. "
   ]
  },
  {
   "cell_type": "code",
   "execution_count": 7,
   "metadata": {},
   "outputs": [],
   "source": [
    "# Import necessary objects\n",
    "from dotg.circuits import SurfaceCode\n",
    "from dotg.noise import DepolarizingNoise\n",
    "from dotg.decoders import (\n",
    "    MinimumWeightPerfectMatching,\n",
    "    BPOSD,\n",
    "    LDPCDecoderOptions,\n",
    "    OSDMethods,\n",
    ")"
   ]
  },
  {
   "cell_type": "code",
   "execution_count": 8,
   "metadata": {},
   "outputs": [],
   "source": [
    "# Define parameters\n",
    "from tqdm import tqdm\n",
    "import numpy as np\n",
    "\n",
    "# Ambitious!\n",
    "NUM_SHOTS = 1e6\n",
    "\n",
    "# Decent number of distances for more accurate thresholding\n",
    "DISTANCES = [5, 7, 9, 11, 13]\n",
    "\n",
    "# We expect the threshold to lie between 0.1% and 1% physical\n",
    "PHYSICAL_ERRORS = np.logspace(-3, -2, 20)"
   ]
  },
  {
   "cell_type": "code",
   "execution_count": 9,
   "metadata": {},
   "outputs": [],
   "source": [
    "# Function to quickly create noisy circuits\n",
    "def noisy_circuit(distance: int, physical_error: float):\n",
    "    noise_model = DepolarizingNoise(physical_error=physical_error)\n",
    "    circuit = SurfaceCode.Rotated(distance=distance).memory\n",
    "    return noise_model.permute_circuit(circuit=circuit)"
   ]
  },
  {
   "cell_type": "code",
   "execution_count": 10,
   "metadata": {},
   "outputs": [
    {
     "name": "stderr",
     "output_type": "stream",
     "text": [
      "  0%|          | 0/5 [00:00<?, ?it/s]\n"
     ]
    },
    {
     "ename": "TypeError",
     "evalue": "'Rotated' object is not iterable",
     "output_type": "error",
     "traceback": [
      "\u001b[0;31m---------------------------------------------------------------------------\u001b[0m",
      "\u001b[0;31mTypeError\u001b[0m                                 Traceback (most recent call last)",
      "\u001b[1;32m/Users/brendan/Code/dotg/experiments/thresholding/rotated_threshold.ipynb Cell 5\u001b[0m line \u001b[0;36m1\n\u001b[1;32m      <a href='vscode-notebook-cell:/Users/brendan/Code/dotg/experiments/thresholding/rotated_threshold.ipynb#X13sZmlsZQ%3D%3D?line=6'>7</a>\u001b[0m \u001b[39mfor\u001b[39;00m physical \u001b[39min\u001b[39;00m PHYSICAL_ERRORS:\n\u001b[1;32m      <a href='vscode-notebook-cell:/Users/brendan/Code/dotg/experiments/thresholding/rotated_threshold.ipynb#X13sZmlsZQ%3D%3D?line=7'>8</a>\u001b[0m     \u001b[39m# Restrict shot number for high physical errors\u001b[39;00m\n\u001b[1;32m      <a href='vscode-notebook-cell:/Users/brendan/Code/dotg/experiments/thresholding/rotated_threshold.ipynb#X13sZmlsZQ%3D%3D?line=8'>9</a>\u001b[0m     num_shots \u001b[39m=\u001b[39m \u001b[39mint\u001b[39m(\u001b[39mmin\u001b[39m(NUM_SHOTS, \u001b[39m1\u001b[39m \u001b[39m/\u001b[39m physical\u001b[39m*\u001b[39m\u001b[39m*\u001b[39m\u001b[39m2\u001b[39m))\n\u001b[0;32m---> <a href='vscode-notebook-cell:/Users/brendan/Code/dotg/experiments/thresholding/rotated_threshold.ipynb#X13sZmlsZQ%3D%3D?line=10'>11</a>\u001b[0m     circ \u001b[39m=\u001b[39m noisy_circuit(distance\u001b[39m=\u001b[39;49mdistance, physical_error\u001b[39m=\u001b[39;49mphysical)\n\u001b[1;32m     <a href='vscode-notebook-cell:/Users/brendan/Code/dotg/experiments/thresholding/rotated_threshold.ipynb#X13sZmlsZQ%3D%3D?line=12'>13</a>\u001b[0m     mwpm \u001b[39m=\u001b[39m MinimumWeightPerfectMatching(circuit\u001b[39m=\u001b[39mcirc)\n\u001b[1;32m     <a href='vscode-notebook-cell:/Users/brendan/Code/dotg/experiments/thresholding/rotated_threshold.ipynb#X13sZmlsZQ%3D%3D?line=13'>14</a>\u001b[0m     logical_mwpm \u001b[39m=\u001b[39m mwpm\u001b[39m.\u001b[39mlogical_error(num_shots\u001b[39m=\u001b[39mnum_shots)\n",
      "\u001b[1;32m/Users/brendan/Code/dotg/experiments/thresholding/rotated_threshold.ipynb Cell 5\u001b[0m line \u001b[0;36m5\n\u001b[1;32m      <a href='vscode-notebook-cell:/Users/brendan/Code/dotg/experiments/thresholding/rotated_threshold.ipynb#X13sZmlsZQ%3D%3D?line=2'>3</a>\u001b[0m noise_model \u001b[39m=\u001b[39m DepolarizingNoise(physical_error\u001b[39m=\u001b[39mphysical_error)\n\u001b[1;32m      <a href='vscode-notebook-cell:/Users/brendan/Code/dotg/experiments/thresholding/rotated_threshold.ipynb#X13sZmlsZQ%3D%3D?line=3'>4</a>\u001b[0m circuit \u001b[39m=\u001b[39m SurfaceCode\u001b[39m.\u001b[39mRotated(distance\u001b[39m=\u001b[39mdistance)\n\u001b[0;32m----> <a href='vscode-notebook-cell:/Users/brendan/Code/dotg/experiments/thresholding/rotated_threshold.ipynb#X13sZmlsZQ%3D%3D?line=4'>5</a>\u001b[0m \u001b[39mreturn\u001b[39;00m noise_model\u001b[39m.\u001b[39;49mpermute_circuit(circuit\u001b[39m=\u001b[39;49mcircuit)\n",
      "File \u001b[0;32m~/Code/dotg/src/dotg/noise/_noise_model.py:326\u001b[0m, in \u001b[0;36mNoiseModel.permute_circuit\u001b[0;34m(self, circuit)\u001b[0m\n\u001b[1;32m    312\u001b[0m \u001b[39m\u001b[39m\u001b[39m\"\"\"Given an input circuit without noise, apply this noise model to the circuit.\u001b[39;00m\n\u001b[1;32m    313\u001b[0m \n\u001b[1;32m    314\u001b[0m \u001b[39mParameters\u001b[39;00m\n\u001b[0;32m   (...)\u001b[0m\n\u001b[1;32m    322\u001b[0m \u001b[39m    The same circuit with noise applied appropriately.\u001b[39;00m\n\u001b[1;32m    323\u001b[0m \u001b[39m\"\"\"\u001b[39;00m\n\u001b[1;32m    325\u001b[0m noisy_circuit \u001b[39m=\u001b[39m stim\u001b[39m.\u001b[39mCircuit()\n\u001b[0;32m--> 326\u001b[0m \u001b[39mfor\u001b[39;00m instr \u001b[39min\u001b[39;00m circuit:\n\u001b[1;32m    327\u001b[0m     \u001b[39mif\u001b[39;00m instr\u001b[39m.\u001b[39mname \u001b[39min\u001b[39;00m MeasureAndReset\u001b[39m.\u001b[39mmembers():\n\u001b[1;32m    328\u001b[0m         \u001b[39mself\u001b[39m\u001b[39m.\u001b[39m_measurement_and_reset_instruction(\n\u001b[1;32m    329\u001b[0m             circuit\u001b[39m=\u001b[39mnoisy_circuit, instruction\u001b[39m=\u001b[39minstr\n\u001b[1;32m    330\u001b[0m         )\n",
      "\u001b[0;31mTypeError\u001b[0m: 'Rotated' object is not iterable"
     ]
    }
   ],
   "source": [
    "# Experiment cell\n",
    "logical_error_mwpm = {}\n",
    "logical_error_bposd = {}\n",
    "\n",
    "for distance in tqdm(DISTANCES):\n",
    "    logical_error_curve = []\n",
    "    for physical in PHYSICAL_ERRORS:\n",
    "        # Restrict shot number for high physical errors\n",
    "        num_shots = int(min(NUM_SHOTS, 1 / physical**2))\n",
    "\n",
    "        circ = noisy_circuit(distance=distance, physical_error=physical)\n",
    "\n",
    "        mwpm = MinimumWeightPerfectMatching(circuit=circ)\n",
    "        logical_mwpm = mwpm.logical_error(num_shots=num_shots)\n",
    "\n",
    "        bposd = BPOSD(\n",
    "            circuit=circ,\n",
    "            decoder_options=LDPCDecoderOptions(\n",
    "                max_iterations=distance, osd_method=OSDMethods.EXHAUSTIVE\n",
    "            ),\n",
    "        )\n",
    "        logical_bposd = bposd.logical_error(num_shots=num_shots)\n",
    "\n",
    "        logical_error_curve = [(logical_mwpm, logical_bposd)]\n",
    "    \n",
    "    mwpm_curve, bposd_curve = zip(*logical_error_curve)\n",
    "\n",
    "    logical_error_mwpm[distance] = mwpm_curve\n",
    "    logical_error_bposd[distance] = bposd_curve"
   ]
  }
 ],
 "metadata": {
  "kernelspec": {
   "display_name": "dotg-F8aeF3Ni-py3.11",
   "language": "python",
   "name": "python3"
  },
  "language_info": {
   "codemirror_mode": {
    "name": "ipython",
    "version": 3
   },
   "file_extension": ".py",
   "mimetype": "text/x-python",
   "name": "python",
   "nbconvert_exporter": "python",
   "pygments_lexer": "ipython3",
   "version": "3.11.4"
  },
  "orig_nbformat": 4
 },
 "nbformat": 4,
 "nbformat_minor": 2
}
